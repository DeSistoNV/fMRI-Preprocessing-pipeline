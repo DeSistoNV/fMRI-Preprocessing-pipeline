{
 "cells": [
  {
   "cell_type": "code",
   "execution_count": 43,
   "metadata": {
    "collapsed": true
   },
   "outputs": [],
   "source": [
    "import mriDbObjDefs_pandas as mri\n",
    "import pandas as pd\n",
    "%load_ext autoreload \n",
    "%autoreload 2"
   ]
  },
  {
   "cell_type": "markdown",
   "metadata": {},
   "source": [
    "# the old db"
   ]
  },
  {
   "cell_type": "code",
   "execution_count": 44,
   "metadata": {
    "collapsed": false
   },
   "outputs": [],
   "source": [
    "db_path = '/musc.repo/Data/nickdesisto/Imagery_preproc/Imagery_DB.csv'"
   ]
  },
  {
   "cell_type": "code",
   "execution_count": 45,
   "metadata": {
    "collapsed": false
   },
   "outputs": [
    {
     "data": {
      "text/html": [
       "<div>\n",
       "<table border=\"1\" class=\"dataframe\">\n",
       "  <thead>\n",
       "    <tr style=\"text-align: right;\">\n",
       "      <th></th>\n",
       "      <th>runID</th>\n",
       "      <th>date</th>\n",
       "      <th>subject</th>\n",
       "      <th>experiment</th>\n",
       "      <th>working_vol</th>\n",
       "      <th>brain_mask</th>\n",
       "      <th>sessionID</th>\n",
       "      <th>run_type</th>\n",
       "      <th>design matrix</th>\n",
       "      <th>frame_file</th>\n",
       "      <th>...</th>\n",
       "      <th>vox_z</th>\n",
       "      <th>run_code_path</th>\n",
       "      <th>run_code_file</th>\n",
       "      <th>design_matrix_path</th>\n",
       "      <th>frameFilePath</th>\n",
       "      <th>picPath</th>\n",
       "      <th>siemensRef</th>\n",
       "      <th>padVol</th>\n",
       "      <th>mag</th>\n",
       "      <th>phase</th>\n",
       "    </tr>\n",
       "  </thead>\n",
       "  <tbody>\n",
       "    <tr>\n",
       "      <th>0</th>\n",
       "      <td>0</td>\n",
       "      <td>8/7/2014</td>\n",
       "      <td>CO</td>\n",
       "      <td>imagery.rf</td>\n",
       "      <td>/musc.repo/Data/nickdesisto/Imagery preprocced...</td>\n",
       "      <td>/musc.repo/Data/nickdesisto/Imagery preprocced...</td>\n",
       "      <td>1</td>\n",
       "      <td>1pcp</td>\n",
       "      <td>design_matrix.npy</td>\n",
       "      <td>pcp_frame_list.txt</td>\n",
       "      <td>...</td>\n",
       "      <td>1.6</td>\n",
       "      <td>/musc.repo/mri/7T.cmrr/Presentation/imagery.rf...</td>\n",
       "      <td>run_experiment.py</td>\n",
       "      <td>/musc.repo/mri/7T.cmrr/Presentation/imagery.rf...</td>\n",
       "      <td>/musc.repo/mri/7T.cmrr/Presentation/imagery.rf...</td>\n",
       "      <td>/musc.repo/mri/7T.cmrr/Presentation/imagery.rf...</td>\n",
       "      <td>0</td>\n",
       "      <td>0</td>\n",
       "      <td>NaN</td>\n",
       "      <td>NaN</td>\n",
       "    </tr>\n",
       "    <tr>\n",
       "      <th>1</th>\n",
       "      <td>1</td>\n",
       "      <td>8/7/2014</td>\n",
       "      <td>CO</td>\n",
       "      <td>imagery.rf</td>\n",
       "      <td>/musc.repo/Data/nickdesisto/Imagery preprocced...</td>\n",
       "      <td>/musc.repo/Data/nickdesisto/Imagery preprocced...</td>\n",
       "      <td>1</td>\n",
       "      <td>1img</td>\n",
       "      <td>design_matrix.npy</td>\n",
       "      <td>img_frame_list.txt</td>\n",
       "      <td>...</td>\n",
       "      <td>1.6</td>\n",
       "      <td>/musc.repo/mri/7T.cmrr/Presentation/imagery.rf...</td>\n",
       "      <td>run_experiment.py</td>\n",
       "      <td>/musc.repo/mri/7T.cmrr/Presentation/imagery.rf...</td>\n",
       "      <td>/musc.repo/mri/7T.cmrr/Presentation/imagery.rf...</td>\n",
       "      <td>/musc.repo/mri/7T.cmrr/Presentation/imagery.rf...</td>\n",
       "      <td>0</td>\n",
       "      <td>0</td>\n",
       "      <td>NaN</td>\n",
       "      <td>NaN</td>\n",
       "    </tr>\n",
       "    <tr>\n",
       "      <th>2</th>\n",
       "      <td>2</td>\n",
       "      <td>8/7/2014</td>\n",
       "      <td>CO</td>\n",
       "      <td>imagery.rf</td>\n",
       "      <td>/musc.repo/Data/nickdesisto/Imagery preprocced...</td>\n",
       "      <td>/musc.repo/Data/nickdesisto/Imagery preprocced...</td>\n",
       "      <td>1</td>\n",
       "      <td>2pcp</td>\n",
       "      <td>design_matrix.npy</td>\n",
       "      <td>pcp_frame_list.txt</td>\n",
       "      <td>...</td>\n",
       "      <td>1.6</td>\n",
       "      <td>/musc.repo/mri/7T.cmrr/Presentation/imagery.rf...</td>\n",
       "      <td>run_experiment.py</td>\n",
       "      <td>/musc.repo/mri/7T.cmrr/Presentation/imagery.rf...</td>\n",
       "      <td>/musc.repo/mri/7T.cmrr/Presentation/imagery.rf...</td>\n",
       "      <td>/musc.repo/mri/7T.cmrr/Presentation/imagery.rf...</td>\n",
       "      <td>0</td>\n",
       "      <td>0</td>\n",
       "      <td>NaN</td>\n",
       "      <td>NaN</td>\n",
       "    </tr>\n",
       "    <tr>\n",
       "      <th>3</th>\n",
       "      <td>3</td>\n",
       "      <td>8/7/2014</td>\n",
       "      <td>CO</td>\n",
       "      <td>imagery.rf</td>\n",
       "      <td>/musc.repo/Data/nickdesisto/Imagery preprocced...</td>\n",
       "      <td>/musc.repo/Data/nickdesisto/Imagery preprocced...</td>\n",
       "      <td>1</td>\n",
       "      <td>2img</td>\n",
       "      <td>design_matrix.npy</td>\n",
       "      <td>img_frame_list.txt</td>\n",
       "      <td>...</td>\n",
       "      <td>1.6</td>\n",
       "      <td>/musc.repo/mri/7T.cmrr/Presentation/imagery.rf...</td>\n",
       "      <td>run_experiment.py</td>\n",
       "      <td>/musc.repo/mri/7T.cmrr/Presentation/imagery.rf...</td>\n",
       "      <td>/musc.repo/mri/7T.cmrr/Presentation/imagery.rf...</td>\n",
       "      <td>/musc.repo/mri/7T.cmrr/Presentation/imagery.rf...</td>\n",
       "      <td>0</td>\n",
       "      <td>0</td>\n",
       "      <td>NaN</td>\n",
       "      <td>NaN</td>\n",
       "    </tr>\n",
       "    <tr>\n",
       "      <th>4</th>\n",
       "      <td>4</td>\n",
       "      <td>8/7/2014</td>\n",
       "      <td>CO</td>\n",
       "      <td>imagery.rf</td>\n",
       "      <td>/musc.repo/Data/nickdesisto/Imagery preprocced...</td>\n",
       "      <td>/musc.repo/Data/nickdesisto/Imagery preprocced...</td>\n",
       "      <td>1</td>\n",
       "      <td>3pcp</td>\n",
       "      <td>design_matrix.npy</td>\n",
       "      <td>pcp_frame_list.txt</td>\n",
       "      <td>...</td>\n",
       "      <td>1.6</td>\n",
       "      <td>/musc.repo/mri/7T.cmrr/Presentation/imagery.rf...</td>\n",
       "      <td>run_experiment.py</td>\n",
       "      <td>/musc.repo/mri/7T.cmrr/Presentation/imagery.rf...</td>\n",
       "      <td>/musc.repo/mri/7T.cmrr/Presentation/imagery.rf...</td>\n",
       "      <td>/musc.repo/mri/7T.cmrr/Presentation/imagery.rf...</td>\n",
       "      <td>0</td>\n",
       "      <td>0</td>\n",
       "      <td>NaN</td>\n",
       "      <td>NaN</td>\n",
       "    </tr>\n",
       "  </tbody>\n",
       "</table>\n",
       "<p>5 rows × 31 columns</p>\n",
       "</div>"
      ],
      "text/plain": [
       "   runID      date subject  experiment  \\\n",
       "0      0  8/7/2014      CO  imagery.rf   \n",
       "1      1  8/7/2014      CO  imagery.rf   \n",
       "2      2  8/7/2014      CO  imagery.rf   \n",
       "3      3  8/7/2014      CO  imagery.rf   \n",
       "4      4  8/7/2014      CO  imagery.rf   \n",
       "\n",
       "                                         working_vol  \\\n",
       "0  /musc.repo/Data/nickdesisto/Imagery preprocced...   \n",
       "1  /musc.repo/Data/nickdesisto/Imagery preprocced...   \n",
       "2  /musc.repo/Data/nickdesisto/Imagery preprocced...   \n",
       "3  /musc.repo/Data/nickdesisto/Imagery preprocced...   \n",
       "4  /musc.repo/Data/nickdesisto/Imagery preprocced...   \n",
       "\n",
       "                                          brain_mask  sessionID run_type  \\\n",
       "0  /musc.repo/Data/nickdesisto/Imagery preprocced...          1     1pcp   \n",
       "1  /musc.repo/Data/nickdesisto/Imagery preprocced...          1     1img   \n",
       "2  /musc.repo/Data/nickdesisto/Imagery preprocced...          1     2pcp   \n",
       "3  /musc.repo/Data/nickdesisto/Imagery preprocced...          1     2img   \n",
       "4  /musc.repo/Data/nickdesisto/Imagery preprocced...          1     3pcp   \n",
       "\n",
       "       design matrix          frame_file  ...   vox_z  \\\n",
       "0  design_matrix.npy  pcp_frame_list.txt  ...     1.6   \n",
       "1  design_matrix.npy  img_frame_list.txt  ...     1.6   \n",
       "2  design_matrix.npy  pcp_frame_list.txt  ...     1.6   \n",
       "3  design_matrix.npy  img_frame_list.txt  ...     1.6   \n",
       "4  design_matrix.npy  pcp_frame_list.txt  ...     1.6   \n",
       "\n",
       "                                       run_code_path      run_code_file  \\\n",
       "0  /musc.repo/mri/7T.cmrr/Presentation/imagery.rf...  run_experiment.py   \n",
       "1  /musc.repo/mri/7T.cmrr/Presentation/imagery.rf...  run_experiment.py   \n",
       "2  /musc.repo/mri/7T.cmrr/Presentation/imagery.rf...  run_experiment.py   \n",
       "3  /musc.repo/mri/7T.cmrr/Presentation/imagery.rf...  run_experiment.py   \n",
       "4  /musc.repo/mri/7T.cmrr/Presentation/imagery.rf...  run_experiment.py   \n",
       "\n",
       "                                  design_matrix_path  \\\n",
       "0  /musc.repo/mri/7T.cmrr/Presentation/imagery.rf...   \n",
       "1  /musc.repo/mri/7T.cmrr/Presentation/imagery.rf...   \n",
       "2  /musc.repo/mri/7T.cmrr/Presentation/imagery.rf...   \n",
       "3  /musc.repo/mri/7T.cmrr/Presentation/imagery.rf...   \n",
       "4  /musc.repo/mri/7T.cmrr/Presentation/imagery.rf...   \n",
       "\n",
       "                                       frameFilePath  \\\n",
       "0  /musc.repo/mri/7T.cmrr/Presentation/imagery.rf...   \n",
       "1  /musc.repo/mri/7T.cmrr/Presentation/imagery.rf...   \n",
       "2  /musc.repo/mri/7T.cmrr/Presentation/imagery.rf...   \n",
       "3  /musc.repo/mri/7T.cmrr/Presentation/imagery.rf...   \n",
       "4  /musc.repo/mri/7T.cmrr/Presentation/imagery.rf...   \n",
       "\n",
       "                                             picPath  siemensRef  padVol  mag  \\\n",
       "0  /musc.repo/mri/7T.cmrr/Presentation/imagery.rf...           0       0  NaN   \n",
       "1  /musc.repo/mri/7T.cmrr/Presentation/imagery.rf...           0       0  NaN   \n",
       "2  /musc.repo/mri/7T.cmrr/Presentation/imagery.rf...           0       0  NaN   \n",
       "3  /musc.repo/mri/7T.cmrr/Presentation/imagery.rf...           0       0  NaN   \n",
       "4  /musc.repo/mri/7T.cmrr/Presentation/imagery.rf...           0       0  NaN   \n",
       "\n",
       "   phase  \n",
       "0    NaN  \n",
       "1    NaN  \n",
       "2    NaN  \n",
       "3    NaN  \n",
       "4    NaN  \n",
       "\n",
       "[5 rows x 31 columns]"
      ]
     },
     "execution_count": 45,
     "metadata": {},
     "output_type": "execute_result"
    }
   ],
   "source": [
    "pd.read_csv(db_path).head()"
   ]
  },
  {
   "cell_type": "code",
   "execution_count": 46,
   "metadata": {
    "collapsed": true
   },
   "outputs": [],
   "source": [
    "main_inputnode = mri.fsl_preproc_inode()  # in mriDbObjDefs"
   ]
  },
  {
   "cell_type": "markdown",
   "metadata": {},
   "source": [
    "# to show available subjects, comment out subjects in the call below"
   ]
  },
  {
   "cell_type": "code",
   "execution_count": 51,
   "metadata": {
    "collapsed": false
   },
   "outputs": [
    {
     "name": "stdout",
     "output_type": "stream",
     "text": [
      "Available Subjects are:\n",
      "TN\n",
      "TJ\n",
      "TEST1\n",
      "TEST2\n",
      "CO\n"
     ]
    },
    {
     "ename": "SystemExit",
     "evalue": "Execution Stopped, please choose a Subject",
     "output_type": "error",
     "traceback": [
      "An exception has occurred, use %tb to see the full traceback.\n",
      "\u001b[1;31mSystemExit\u001b[0m\u001b[1;31m:\u001b[0m Execution Stopped, please choose a Subject\n"
     ]
    },
    {
     "name": "stderr",
     "output_type": "stream",
     "text": [
      "To exit: use 'exit', 'quit', or Ctrl-D.\n"
     ]
    }
   ],
   "source": [
    "pipeline_data_params = dict()  # Select only...\n",
    "pipeline_data_params['subject'] = ['TN']\n",
    "pipeline_data_params['experiment'] = ['imagery.rf']\n",
    "pipeline_data_params['run_list'] = []\n",
    "pipeline_data_params['sess_list'] = []\n",
    "pipeline_data_params['vox_res'] = []\n",
    "pipeline_data_params['run_type'] = []\n",
    "pipeline_data_params['crop_this'] = ['med', 'med', 'min']  # Almost never used\n",
    "pipeline_data_params['db'] = db_path\n",
    "pipeline_data_params['DEBUG'] = True # if True, we are in test mode ; only pass 3 runs in\n",
    "\n",
    "main_inputnode.panda_fields(\n",
    "#     subj = pipeline_data_params['subject'],\n",
    "    expID = pipeline_data_params['experiment'],\n",
    "    runList = pipeline_data_params['run_list'],\n",
    "    sess_list=pipeline_data_params['sess_list'],\n",
    "    cropRule = pipeline_data_params['crop_this'],\n",
    "    db = pipeline_data_params['db'],\n",
    "    run_type = pipeline_data_params['run_type'],\n",
    "    TEST = pipeline_data_params['DEBUG']\n",
    "    )"
   ]
  },
  {
   "cell_type": "markdown",
   "metadata": {},
   "source": [
    "## same with experiments"
   ]
  },
  {
   "cell_type": "code",
   "execution_count": 52,
   "metadata": {
    "collapsed": false
   },
   "outputs": [
    {
     "name": "stdout",
     "output_type": "stream",
     "text": [
      "Available expIDs are:\n",
      "imagery.rf\n"
     ]
    },
    {
     "ename": "SystemExit",
     "evalue": "Execution Stopped, please choose an expID",
     "output_type": "error",
     "traceback": [
      "An exception has occurred, use %tb to see the full traceback.\n",
      "\u001b[1;31mSystemExit\u001b[0m\u001b[1;31m:\u001b[0m Execution Stopped, please choose an expID\n"
     ]
    },
    {
     "name": "stderr",
     "output_type": "stream",
     "text": [
      "To exit: use 'exit', 'quit', or Ctrl-D.\n"
     ]
    }
   ],
   "source": [
    "pipeline_data_params = dict()  # Select only...\n",
    "pipeline_data_params['subject'] = ['TN']\n",
    "pipeline_data_params['experiment'] = ['imagery.rf']\n",
    "pipeline_data_params['run_list'] = []\n",
    "pipeline_data_params['sess_list'] = []\n",
    "pipeline_data_params['vox_res'] = []\n",
    "pipeline_data_params['run_type'] = []\n",
    "pipeline_data_params['crop_this'] = ['med', 'med', 'min']  # Almost never used\n",
    "pipeline_data_params['db'] = db_path\n",
    "pipeline_data_params['DEBUG'] = True # if True, we are in test mode ; only pass 3 runs in\n",
    "\n",
    "main_inputnode.panda_fields(\n",
    "    subj = pipeline_data_params['subject'],\n",
    "#     expID = pipeline_data_params['experiment'],\n",
    "    runList = pipeline_data_params['run_list'],\n",
    "    sess_list=pipeline_data_params['sess_list'],\n",
    "    cropRule = pipeline_data_params['crop_this'],\n",
    "    db = pipeline_data_params['db'],\n",
    "    run_type = pipeline_data_params['run_type'],\n",
    "    TEST = pipeline_data_params['DEBUG']\n",
    "    )"
   ]
  },
  {
   "cell_type": "markdown",
   "metadata": {},
   "source": [
    "# now if we pass them in..."
   ]
  },
  {
   "cell_type": "code",
   "execution_count": 53,
   "metadata": {
    "collapsed": true
   },
   "outputs": [],
   "source": [
    "pipeline_data_params = dict()  # Select only...\n",
    "pipeline_data_params['subject'] = ['TN']\n",
    "pipeline_data_params['experiment'] = ['imagery.rf']\n",
    "pipeline_data_params['run_list'] = []\n",
    "pipeline_data_params['sess_list'] = []\n",
    "pipeline_data_params['vox_res'] = []\n",
    "pipeline_data_params['run_type'] = []\n",
    "pipeline_data_params['crop_this'] = ['med', 'med', 'min']  # Almost never used\n",
    "pipeline_data_params['db'] = db_path\n",
    "pipeline_data_params['DEBUG'] = True # if True, we are in test mode ; only pass 3 runs in\n",
    "\n",
    "main_inputnode.panda_fields(\n",
    "    subj = pipeline_data_params['subject'],\n",
    "    expID = pipeline_data_params['experiment'],\n",
    "    runList = pipeline_data_params['run_list'],\n",
    "    sess_list=pipeline_data_params['sess_list'],\n",
    "    cropRule = pipeline_data_params['crop_this'],\n",
    "    db = pipeline_data_params['db'],\n",
    "    run_type = pipeline_data_params['run_type'],\n",
    "    TEST = pipeline_data_params['DEBUG']\n",
    "    )"
   ]
  },
  {
   "cell_type": "code",
   "execution_count": 54,
   "metadata": {
    "collapsed": false
   },
   "outputs": [
    {
     "data": {
      "text/plain": [
       "\n",
       "abs_run_id = [33, 34, 35]\n",
       "delta_TE = <undefined>\n",
       "do_FNIRT = <undefined>\n",
       "do_fugue = <undefined>\n",
       "dof_FLIRT = <undefined>\n",
       "dwell_time = <undefined>\n",
       "interp_FLIRT = <undefined>\n",
       "interp_FNIRT = <undefined>\n",
       "mag_frac = <undefined>\n",
       "mags = ['/mnt/7T_Imagery/July.2014.Imagery.RF/Naselaris_TN2/1_015_FieldMap_20140707/Naselaris_TN2_14_07_07-08_18_45-DST-1_3_12_2_1107_5_2_34_18927_20140707_092938_449000_001_Naselaris_ImageryExperiment_015_fm2d2r_FieldMap.nii', '/mnt/7T_Imagery/July.2014.Imagery.RF/Naselaris_TN2/1_015_FieldMap_20140707/Naselaris_TN2_14_07_07-08_18_45-DST-1_3_12_2_1107_5_2_34_18927_20140707_092938_449000_001_Naselaris_ImageryExperiment_015_fm2d2r_FieldMap.nii', '/mnt/7T_Imagery/July.2014.Imagery.RF/Naselaris_TN2/1_015_FieldMap_20140707/Naselaris_TN2_14_07_07-08_18_45-DST-1_3_12_2_1107_5_2_34_18927_20140707_092938_449000_001_Naselaris_ImageryExperiment_015_fm2d2r_FieldMap.nii']\n",
       "moco_only = <undefined>\n",
       "nVols = [306, 306, 310]\n",
       "padNum = 0\n",
       "phase = ['/mnt/7T_Imagery/July.2014.Imagery.RF/Naselaris_TN2/1_016_FieldMap_20140707/Naselaris_TN2_14_07_07-08_18_45-DST-1_3_12_2_1107_5_2_34_18927_20140707_092943_106000_001_Naselaris_ImageryExperiment_016_fm2d2r_FieldMap.nii', '/mnt/7T_Imagery/July.2014.Imagery.RF/Naselaris_TN2/1_016_FieldMap_20140707/Naselaris_TN2_14_07_07-08_18_45-DST-1_3_12_2_1107_5_2_34_18927_20140707_092943_106000_001_Naselaris_ImageryExperiment_016_fm2d2r_FieldMap.nii', '/mnt/7T_Imagery/July.2014.Imagery.RF/Naselaris_TN2/1_016_FieldMap_20140707/Naselaris_TN2_14_07_07-08_18_45-DST-1_3_12_2_1107_5_2_34_18927_20140707_092943_106000_001_Naselaris_ImageryExperiment_016_fm2d2r_FieldMap.nii']\n",
       "ref_run = <undefined>\n",
       "results_base_dir = <undefined>\n",
       "results_container = <undefined>\n",
       "rigid2D_FLIRTconvert_dicoms = <undefined>\n",
       "run_list = ['/mnt/7T_Imagery/July.2014.Imagery.RF/Naselaris_TN2/1_008_BOLD_1p6iso_MB2_iPAT2_Tr2_run5pcp_redo_20140707/Naselaris_TN2_14_07_07-08_18_45-DST-1_3_12_2_1107_5_2_34_18927_20140707_083455_282000_001_Naselaris_ImageryExperiment_008_epfid2d1_130_BOLD_1p6iso_MB2_iPAT2_Tr2_run5pcp_redo.nii', '/mnt/7T_Imagery/July.2014.Imagery.RF/Naselaris_TN2/1_010_BOLD_1p6iso_MB2_iPAT2_Tr2_run5img_20140707/Naselaris_TN2_14_07_07-08_18_45-DST-1_3_12_2_1107_5_2_34_18927_20140707_084958_498000_001_Naselaris_ImageryExperiment_010_epfid2d1_130_BOLD_1p6iso_MB2_iPAT2_Tr2_run5img.nii', '/mnt/7T_Imagery/July.2014.Imagery.RF/Naselaris_TN2/1_012_BOLD_1p6iso_MB2_iPAT2_Tr2_run6pcp_20140707/Naselaris_TN2_14_07_07-08_18_45-DST-1_3_12_2_1107_5_2_34_18927_20140707_090154_115000_001_Naselaris_ImageryExperiment_012_epfid2d1_130_BOLD_1p6iso_MB2_iPAT2_Tr2_run6pcp.nii']\n",
       "spatial_crop = {'z_size': [70, 70, 70], 'y_size': [130, 130, 130], 'y_min': [0, 0, 0], 'z_min': [0, 0, 0], 'x_size': [130, 130, 130], 'x_min': [0, 0, 0]}\n",
       "t_min = [0, 0, 0]\n",
       "t_size = <undefined>\n",
       "unwarp_direction = <undefined>"
      ]
     },
     "execution_count": 54,
     "metadata": {},
     "output_type": "execute_result"
    }
   ],
   "source": [
    "main_inputnode.inputs"
   ]
  },
  {
   "cell_type": "code",
   "execution_count": null,
   "metadata": {
    "collapsed": true
   },
   "outputs": [],
   "source": []
  }
 ],
 "metadata": {
  "kernelspec": {
   "display_name": "Python 2",
   "language": "python",
   "name": "python2"
  },
  "language_info": {
   "codemirror_mode": {
    "name": "ipython",
    "version": 2
   },
   "file_extension": ".py",
   "mimetype": "text/x-python",
   "name": "python",
   "nbconvert_exporter": "python",
   "pygments_lexer": "ipython2",
   "version": "2.7.11"
  }
 },
 "nbformat": 4,
 "nbformat_minor": 0
}
